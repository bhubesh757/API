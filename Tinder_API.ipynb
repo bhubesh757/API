{
  "nbformat": 4,
  "nbformat_minor": 0,
  "metadata": {
    "colab": {
      "name": "Tinder API.ipynb",
      "private_outputs": true,
      "provenance": [],
      "authorship_tag": "ABX9TyOXYBDs2O8DPv5MsYauiX9V",
      "include_colab_link": true
    },
    "kernelspec": {
      "name": "python3",
      "display_name": "Python 3"
    },
    "language_info": {
      "name": "python"
    }
  },
  "cells": [
    {
      "cell_type": "markdown",
      "metadata": {
        "id": "view-in-github",
        "colab_type": "text"
      },
      "source": [
        "<a href=\"https://colab.research.google.com/github/bhubesh757/API/blob/main/Tinder_API.ipynb\" target=\"_parent\"><img src=\"https://colab.research.google.com/assets/colab-badge.svg\" alt=\"Open In Colab\"/></a>"
      ]
    },
    {
      "cell_type": "markdown",
      "metadata": {
        "id": "gb0BUcEx0-y9"
      },
      "source": [
        "# Tinder API\n"
      ]
    },
    {
      "cell_type": "markdown",
      "metadata": {
        "id": "Rpr_sSnmx9aK"
      },
      "source": [
        "Steps Included in this API\n",
        "\n",
        "1) Tinder Demo\n",
        "2) Fn which we build\n",
        "3) setup db\n",
        "4)start building using flask\n",
        "5)host the api on heroku\n"
      ]
    },
    {
      "cell_type": "markdown",
      "metadata": {
        "id": "ZnXmH3bC0itN"
      },
      "source": [
        "1. Login  Credentials\n",
        "2. Create Profile with \n",
        "  1. name \n",
        "  2.number \n",
        "  3. Location\n",
        "  4. Lat Lng\n",
        "  5. State\n",
        "  6. Country\n",
        "3. Gender\n",
        "4. Job\n",
        "5. Passion\n",
        "6. company\n",
        "7. Age\n",
        "8. Images x 9\n",
        "\n",
        "## Backend\n",
        "\n",
        "1. Uid\n",
        "2. Createdat\n",
        "3. Lastopened at\n",
        "\n",
        "\n",
        "## Feed \n",
        "\n",
        "1. user Data Array []\n",
        "\n",
        "##Matching \n",
        "\n",
        "1.Left Swipe => Rejecting\n",
        "2.Right Swipe => Match Its a Crush"
      ]
    },
    {
      "cell_type": "code",
      "metadata": {
        "id": "C3hqH7HDyVqw"
      },
      "source": [
        "\n",
        "import firebase_admin\n",
        "from firebase_admin import credentials , storage , auth , firestore\n",
        "\n",
        "cred = credentials.Certificate(\"/content/tinder-api-7e802-firebase-adminsdk-409pg-3d8483ddb7.json\")\n",
        "firebase_admin.initialize_app(cred)\n"
      ],
      "execution_count": null,
      "outputs": []
    },
    {
      "cell_type": "code",
      "metadata": {
        "id": "COF3D53tyVwO"
      },
      "source": [
        "# Auth Code \n",
        "store = firestore.client()"
      ],
      "execution_count": null,
      "outputs": []
    },
    {
      "cell_type": "markdown",
      "metadata": {
        "id": "NRtaBZMKA3_d"
      },
      "source": [
        "User 1 User SignUp"
      ]
    },
    {
      "cell_type": "code",
      "metadata": {
        "id": "bwo897tQyVzA"
      },
      "source": [
        "# Sign Up Creatin a user b giving a mailid and password , to the db\n",
        "user = auth.create_user(\n",
        "    email='bhubesh2k23@gmail.com',\n",
        "    email_verified=False,\n",
        "    password = '123456')\n",
        "print('Sucessfully created new user: {0}'.format(user.uid))"
      ],
      "execution_count": null,
      "outputs": []
    },
    {
      "cell_type": "code",
      "metadata": {
        "id": "N2Qf_yLxyV2r"
      },
      "source": [
        "# User Login \n",
        "\n",
        "try:\n",
        "  user = auth.get_user_by_email('bhubesh2k20@gmail.com'); \n",
        "  print(user.uid);\n",
        "except:\n",
        "  print ('Error No user Found')"
      ],
      "execution_count": null,
      "outputs": []
    },
    {
      "cell_type": "code",
      "metadata": {
        "id": "fXwFWY5myV6h"
      },
      "source": [
        "# Database "
      ],
      "execution_count": null,
      "outputs": []
    },
    {
      "cell_type": "code",
      "metadata": {
        "id": "IwOYCIGtC51Y"
      },
      "source": [
        "def signUp(emailofUser , passwordofUser):\n",
        "  # uid , the id for the particular user , its creates a particular id for the user by entering their mail and password\n",
        "  uid = ''\n",
        "  message = ''\n",
        "  try:\n",
        "    user = auth.create_user(\n",
        "    email= emailofUser,\n",
        "    email_verified=False,\n",
        "    password = passwordofUser)\n",
        "    uid = user.uid;\n",
        "    message = 'Successfully created a new user'\n",
        "    print('Sucessfully created new user: {0}'.format(user.uid))\n",
        "  except:\n",
        "    message = 'User Already Exists'\n",
        "\n",
        "  return {'uid': uid , 'message' : message}\n"
      ],
      "execution_count": null,
      "outputs": []
    },
    {
      "cell_type": "code",
      "metadata": {
        "id": "-WqBTtR1C543"
      },
      "source": [
        "signUp(\"bhubesh179@gmail.com\", \"123456789\" )"
      ],
      "execution_count": null,
      "outputs": []
    },
    {
      "cell_type": "code",
      "metadata": {
        "id": "Cq3CAlkKyV-I"
      },
      "source": [
        "# Login"
      ],
      "execution_count": null,
      "outputs": []
    },
    {
      "cell_type": "code",
      "metadata": {
        "id": "srFMsvADtJLM"
      },
      "source": [
        "def login(emailofUser , passwordofUser):\n",
        "  # uid , the id for the particular user , its creates a particular id for the user by entering their mail and password\n",
        "  uid = ''\n",
        "  message = ''\n",
        "  try:\n",
        "    user = auth.get_user_by_email(emailUser)\n",
        "    message  = \" Successfully Logged in\"\n",
        "    user = user.uid;\n",
        "  except:\n",
        "    message = 'User Doesnt Exist'\n",
        "\n",
        "  return {'uid': uid , 'message' : message}\n"
      ],
      "execution_count": null,
      "outputs": []
    },
    {
      "cell_type": "code",
      "metadata": {
        "id": "Fblmwo5RtJOj"
      },
      "source": [
        "login(\"bhubesh179@gmail.com\" , \"123456789\" )"
      ],
      "execution_count": null,
      "outputs": []
    },
    {
      "cell_type": "code",
      "metadata": {
        "id": "zQb9BGo2tJXJ"
      },
      "source": [
        "# Updating the User Data Profile \n",
        "# data's Required for userProfile\n",
        "\n",
        "# name\n",
        "# Bio\n",
        "# image\n",
        "# number \n",
        "# Age / Dob \n",
        "# Gender\n",
        "# Passion\n",
        "# location\n",
        "  # lat Long\n",
        "  # city\n",
        "  # State\n",
        "  # Country"
      ],
      "execution_count": null,
      "outputs": []
    },
    {
      "cell_type": "markdown",
      "metadata": {
        "id": "RJP1VDJrHsTk"
      },
      "source": [
        "Making a Data for the users to use of it"
      ]
    },
    {
      "cell_type": "markdown",
      "metadata": {
        "id": "52wU45gwHsLW"
      },
      "source": [
        ""
      ]
    },
    {
      "cell_type": "code",
      "metadata": {
        "id": "LLoZ99rLwjCk"
      },
      "source": [
        "def updateUserProfile(uid, dict):\n",
        "\n",
        "  dict_user_details = {}\n",
        "  dict_user_details['name'] = dict['name']\n",
        "  dict_user_details['number'] = dict['number']\n",
        "  dict_user_details['image'] = dict['image']\n",
        "  dict_user_details['Age'] = dict['Age']\n",
        "  dict_user_details['desc'] = dict['desc']\n",
        "  # Location\n",
        "  dict_user_details['location'] = dict['location']\n",
        "  # dict_user_details['location']['coordinate']['lat'] = dict['location']['coordinates']['lat']\n",
        "  # dict_user_details['location']['coordinate']['long'] = dict['location']['coordinates']['long']\n",
        "  # dict_user_details['location']['city'] = dict['location']['city']\n",
        "  # dict_user_details['location']['state'] = dict['location']['state']\n",
        "  # dict_user_details['location']['country'] = dict['location']['country']\n",
        "\n",
        "  dict_user_details['dob'] = dict['dob']\n",
        "  dict_user_details['createdAt'] = firestore.SERVER_TIMESTAMP\n",
        "  dict_user_details['gender'] = dict['gender']\n",
        "  dict_user_details['passion'] = dict['passion']\n",
        "  dict_user_details['Job'] = dict['Job']\n",
        "  dict_user_details['college'] = dict['college']\n",
        "\n",
        "  # storing the data to the db\n",
        "  store.collection('users').document(uid).set(dict_user_details);"
      ],
      "execution_count": null,
      "outputs": []
    },
    {
      "cell_type": "code",
      "metadata": {
        "id": "YD-yVjeWwj50"
      },
      "source": [
        "dict = {}\n",
        "\n",
        "dict['name'] = 'Bhubesh'\n",
        "dict['email'] = 'bhubesh2k20@gmail.com'\n",
        "dict['number'] = '987465123'\n",
        "dict['image'] = 'https://firebasestorage.googleapis.com/v0/b/tinder-api-7e802.appspot.com/o/138390322_453959645620881_2958761715151493090_n.jpg?alt=media&token=a4e99de5-d50b-44ee-aeef-2cade3729be2'\n",
        "dict['Age'] = '19'\n",
        "dict['desc'] = 'Hey I am Bhubesh , I am Single'\n",
        "dict['location'] = {'coordinate' : {'lat' :27.2046 , 'long' : 77.4977 },\n",
        "                     'city' : 'Tirupattur',\n",
        "                     'state' : 'Tamil Nadu',\n",
        "                      'country' : 'India'\n",
        "                     }\n",
        "dict['dob'] = \"16-09-2001\"\n",
        "dict['gender'] = \"Male\"\n",
        "dict['passion'] = 'Coding'\n",
        "dict['Job'] = ''\n",
        "dict['college'] = 'HITS'"
      ],
      "execution_count": null,
      "outputs": []
    },
    {
      "cell_type": "markdown",
      "metadata": {
        "id": "5SNQiAPu04lP"
      },
      "source": [
        ""
      ]
    },
    {
      "cell_type": "code",
      "metadata": {
        "id": "BwBo9LGlwj8y"
      },
      "source": [
        "updateUserProfile('CO8iY5CZnbYTSwzM7G2mR8rKLHC3' , dict)"
      ],
      "execution_count": null,
      "outputs": []
    },
    {
      "cell_type": "code",
      "metadata": {
        "id": "kkUxc3SJwkAw"
      },
      "source": [
        "# 2nd User Data\n",
        "dict = {}\n",
        "\n",
        "dict['name'] = 'Srishti'\n",
        "dict['email'] = 'shivani2546@gmail.com'\n",
        "dict['number'] = '987465123'\n",
        "dict['image'] = 'https://firebasestorage.googleapis.com/v0/b/tinder-api-7e802.appspot.com/o/138390322_453959645620881_2958761715151493090_n.jpg?alt=media&token=a4e99de5-d50b-44ee-aeef-2cade3729be2'\n",
        "dict['Age'] = '19'\n",
        "dict['desc'] = 'Hey I am shiva , I am Single'\n",
        "dict['location'] = {'coordinate' : {'lat' :27.2046 , 'long' : 77.4977 },\n",
        "                     'city' : 'Tirupattur',\n",
        "                     'state' : 'London',\n",
        "                      'country' : 'India'\n",
        "                     }\n",
        "dict['dob'] = \"7-09-1979\"\n",
        "dict['gender'] = \"Female\"\n",
        "dict['passion'] = ' Movies'\n",
        "dict['Job'] = ''\n",
        "dict['college'] = 'HITS'"
      ],
      "execution_count": null,
      "outputs": []
    },
    {
      "cell_type": "code",
      "metadata": {
        "id": "0fjmZkPVwjFh"
      },
      "source": [
        "updateUserProfile('CO8iY5CZnbYTSwzM7G2mR8rKLhD8' , dict)"
      ],
      "execution_count": null,
      "outputs": []
    },
    {
      "cell_type": "code",
      "metadata": {
        "id": "awzK-lygtJaT"
      },
      "source": [
        "# Getting Feed for the user\n",
        "\n",
        "def getFeed(country , gender):\n",
        "  docs = store.collection('users').where('gender', '\"\"' ,gender).stream()\n",
        "\n",
        "  dict = {};\n",
        "  for doc in docs:\n",
        "    if doc.to_dict().get('location').get('country') == country:\n",
        "      dict[doc.id]= doc.to_dict()\n",
        "  return dict;"
      ],
      "execution_count": null,
      "outputs": []
    },
    {
      "cell_type": "code",
      "metadata": {
        "id": "jGV0Ty0stJcq"
      },
      "source": [
        "profiles = getFeed('India','Female')"
      ],
      "execution_count": null,
      "outputs": []
    },
    {
      "cell_type": "code",
      "metadata": {
        "id": "rfWby1SiJ5Eh"
      },
      "source": [
        "profiles #this is the process to get the persons near by!"
      ],
      "execution_count": null,
      "outputs": []
    },
    {
      "cell_type": "code",
      "metadata": {
        "id": "skeJwR_9J5H2"
      },
      "source": [
        "profiles = getFeed('UK')\n",
        "profiles"
      ],
      "execution_count": null,
      "outputs": []
    },
    {
      "cell_type": "code",
      "metadata": {
        "id": "CdMSCGgOJ5L7"
      },
      "source": [
        "# Matching the users\n"
      ],
      "execution_count": null,
      "outputs": []
    },
    {
      "cell_type": "code",
      "metadata": {
        "id": "fqGp7o18PgDZ"
      },
      "source": [
        ""
      ],
      "execution_count": null,
      "outputs": []
    },
    {
      "cell_type": "code",
      "metadata": {
        "id": "ZA4CofYdPgHB"
      },
      "source": [
        ""
      ],
      "execution_count": null,
      "outputs": []
    },
    {
      "cell_type": "code",
      "metadata": {
        "id": "t7n5wgfyJ5Oo"
      },
      "source": [
        ""
      ],
      "execution_count": null,
      "outputs": []
    },
    {
      "cell_type": "code",
      "metadata": {
        "id": "zuAblOLeJ5Ra"
      },
      "source": [
        ""
      ],
      "execution_count": null,
      "outputs": []
    }
  ]
}